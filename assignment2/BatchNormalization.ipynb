[?1034h[0;31m---------------------------------------------------------------------------[0m
[0;31mValueError[0m                                Traceback (most recent call last)
[0;32m/Users/Ying/bin/ipynb_output_filter.py[0m in [0;36m<module>[0;34m()[0m
[1;32m     33[0m [0;32mif[0m [0;32mnot[0m [0mversion[0m[0;34m:[0m[0;34m[0m[0m
[1;32m     34[0m     [0;32mimport[0m [0mjson[0m[0;34m[0m[0m
[0;32m---> 35[0;31m     [0mjson_in[0m [0;34m=[0m [0mjson[0m[0;34m.[0m[0mloads[0m[0;34m([0m[0mto_parse[0m[0;34m)[0m[0;34m[0m[0m
[0m[1;32m     36[0m     [0mversion[0m [0;34m=[0m [0mjson_in[0m[0;34m[[0m[0;34m'nbformat'[0m[0;34m][0m[0;34m[0m[0m
[1;32m     37[0m [0;34m[0m[0m

[0;32m/Users/Ying/.pyenv/versions/anaconda-2.4.0/lib/python2.7/json/__init__.pyc[0m in [0;36mloads[0;34m(s, encoding, cls, object_hook, parse_float, parse_int, parse_constant, object_pairs_hook, **kw)[0m
[1;32m    336[0m             [0mparse_int[0m [0;32mis[0m [0mNone[0m [0;32mand[0m [0mparse_float[0m [0;32mis[0m [0mNone[0m [0;32mand[0m[0;34m[0m[0m
[1;32m    337[0m             parse_constant is None and object_pairs_hook is None and not kw):
[0;32m--> 338[0;31m         [0;32mreturn[0m [0m_default_decoder[0m[0;34m.[0m[0mdecode[0m[0;34m([0m[0ms[0m[0;34m)[0m[0;34m[0m[0m
[0m[1;32m    339[0m     [0;32mif[0m [0mcls[0m [0;32mis[0m [0mNone[0m[0;34m:[0m[0;34m[0m[0m
[1;32m    340[0m         [0mcls[0m [0;34m=[0m [0mJSONDecoder[0m[0;34m[0m[0m

[0;32m/Users/Ying/.pyenv/versions/anaconda-2.4.0/lib/python2.7/json/decoder.pyc[0m in [0;36mdecode[0;34m(self, s, _w)[0m
[1;32m    364[0m [0;34m[0m[0m
[1;32m    365[0m         """
[0;32m--> 366[0;31m         [0mobj[0m[0;34m,[0m [0mend[0m [0;34m=[0m [0mself[0m[0;34m.[0m[0mraw_decode[0m[0;34m([0m[0ms[0m[0;34m,[0m [0midx[0m[0;34m=[0m[0m_w[0m[0;34m([0m[0ms[0m[0;34m,[0m [0;36m0[0m[0;34m)[0m[0;34m.[0m[0mend[0m[0;34m([0m[0;34m)[0m[0;34m)[0m[0;34m[0m[0m
[0m[1;32m    367[0m         [0mend[0m [0;34m=[0m [0m_w[0m[0;34m([0m[0ms[0m[0;34m,[0m [0mend[0m[0;34m)[0m[0;34m.[0m[0mend[0m[0;34m([0m[0;34m)[0m[0;34m[0m[0m
[1;32m    368[0m         [0;32mif[0m [0mend[0m [0;34m!=[0m [0mlen[0m[0;34m([0m[0ms[0m[0;34m)[0m[0;34m:[0m[0;34m[0m[0m

[0;32m/Users/Ying/.pyenv/versions/anaconda-2.4.0/lib/python2.7/json/decoder.pyc[0m in [0;36mraw_decode[0;34m(self, s, idx)[0m
[1;32m    382[0m             [0mobj[0m[0;34m,[0m [0mend[0m [0;34m=[0m [0mself[0m[0;34m.[0m[0mscan_once[0m[0;34m([0m[0ms[0m[0;34m,[0m [0midx[0m[0;34m)[0m[0;34m[0m[0m
[1;32m    383[0m         [0;32mexcept[0m [0mStopIteration[0m[0;34m:[0m[0;34m[0m[0m
[0;32m--> 384[0;31m             [0;32mraise[0m [0mValueError[0m[0;34m([0m[0;34m"No JSON object could be decoded"[0m[0;34m)[0m[0;34m[0m[0m
[0m[1;32m    385[0m         [0;32mreturn[0m [0mobj[0m[0;34m,[0m [0mend[0m[0;34m[0m[0m

[0;31mValueError[0m: No JSON object could be decoded
